{
 "cells": [
  {
   "cell_type": "code",
   "execution_count": 4,
   "metadata": {},
   "outputs": [],
   "source": [
    "import os\n",
    "from PIL import Image"
   ]
  },
  {
   "cell_type": "code",
   "execution_count": 26,
   "metadata": {},
   "outputs": [
    {
     "name": "stdout",
     "output_type": "stream",
     "text": [
      "train_00000.png\n"
     ]
    }
   ],
   "source": [
    "dir=\"F:/Hackathon/repo/Huawei-Hackathon-AbsoluteNoobs/Data/sample/\"\n",
    "file_names = os.listdir(dir) \n",
    "output_dir = \"F:/Hackathon/repo/Huawei-Hackathon-AbsoluteNoobs/Data/sample_cropped/\"\n",
    "os.makedirs(output_dir,exist_ok=True)\n",
    "\n",
    "for file_name in file_names:\n",
    "    print(file_name)\n",
    "    file_path = dir +\"{}\".format(file_name)\n",
    "    im = Image.open(r\"{}\".format(file_path))\n",
    "    width, height = im.size\n",
    "    left = 0\n",
    "    top = height / 8\n",
    "    right = width\n",
    "    bottom = 7 * height / 8\n",
    "    cropped =im.crop((left, top, right, bottom)) \n",
    "    output_file= output_dir+\"{}\".format(file_name)\n",
    "    cropped.save(r\"{}\".format(output_file))"
   ]
  }
 ],
 "metadata": {
  "kernelspec": {
   "display_name": "Python 3.7.13 ('tensorflow')",
   "language": "python",
   "name": "python3"
  },
  "language_info": {
   "codemirror_mode": {
    "name": "ipython",
    "version": 3
   },
   "file_extension": ".py",
   "mimetype": "text/x-python",
   "name": "python",
   "nbconvert_exporter": "python",
   "pygments_lexer": "ipython3",
   "version": "3.7.13"
  },
  "orig_nbformat": 4,
  "vscode": {
   "interpreter": {
    "hash": "34089a0a24ca7794beeacbf251df289de4ac91c4232b34f75443c9a3186f2bf7"
   }
  }
 },
 "nbformat": 4,
 "nbformat_minor": 2
}
